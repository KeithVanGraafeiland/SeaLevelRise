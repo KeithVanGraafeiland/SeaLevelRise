{
 "cells": [
  {
   "cell_type": "code",
   "execution_count": 1,
   "metadata": {},
   "outputs": [],
   "source": [
    "## Url https://coast.noaa.gov/htdata/raster2/elevation/SLR_viewer_DEM_6230/\n"
   ]
  },
  {
   "cell_type": "code",
   "execution_count": 2,
   "metadata": {},
   "outputs": [],
   "source": [
    "import urllib.request\n",
    "import os\n",
    "from tqdm import tqdm\n",
    "import datetime"
   ]
  },
  {
   "cell_type": "code",
   "execution_count": 3,
   "metadata": {},
   "outputs": [],
   "source": [
    "# URL of the file containing the list of URLs\n",
    "url_list_file = 'https://coast.noaa.gov/htdata/raster2/elevation/SLR_viewer_DEM_6230/urllist6230.txt'\n",
    "\n",
    "# Directory to save the downloaded files\n",
    "save_directory = 'e:/analysis/slr'"
   ]
  },
  {
   "cell_type": "code",
   "execution_count": 4,
   "metadata": {},
   "outputs": [],
   "source": [
    "## Create the save directory if it does not exist\n",
    "if not os.path.exists(save_directory):\n",
    "    os.makedirs(save_directory)"
   ]
  },
  {
   "cell_type": "code",
   "execution_count": 5,
   "metadata": {},
   "outputs": [],
   "source": [
    "# Create a folder called \"downloads\" in the save directory\n",
    "downloads_folder = os.path.join(save_directory, 'downloads')\n",
    "if not os.path.exists(downloads_folder):\n",
    "    os.makedirs(downloads_folder)"
   ]
  },
  {
   "cell_type": "code",
   "execution_count": 6,
   "metadata": {},
   "outputs": [
    {
     "name": "stdout",
     "output_type": "stream",
     "text": [
      "['https://noaa-nos-coastal-lidar-pds.s3.amazonaws.com/dem/SLR_viewer_DEM_6230/tileindex_SLR_viewer_DEM.zip', 'https://noaa-nos-coastal-lidar-pds.s3.amazonaws.com/dem/SLR_viewer_DEM_6230/CA/CA_ChannelIslands_metadata.html', 'https://noaa-nos-coastal-lidar-pds.s3.amazonaws.com/dem/SLR_viewer_DEM_6230/GA/GA_north_dem_metadata_fy23.xml', 'https://noaa-nos-coastal-lidar-pds.s3.amazonaws.com/dem/SLR_viewer_DEM_6230/GA/GA_south_dem_metadata_fy23.xml', 'https://noaa-nos-coastal-lidar-pds.s3.amazonaws.com/dem/SLR_viewer_DEM_6230/NC/NC_metadata.html', 'https://noaa-nos-coastal-lidar-pds.s3.amazonaws.com/dem/SLR_viewer_DEM_6230/OR/OR_PQR1_metadata.html', 'https://noaa-nos-coastal-lidar-pds.s3.amazonaws.com/dem/SLR_viewer_DEM_6230/PA/PA_PHI_metadata_FY16Update.xml', 'https://noaa-nos-coastal-lidar-pds.s3.amazonaws.com/dem/SLR_viewer_DEM_6230/NOAA_SLR_DEM_m6230_met.xml', 'https://noaa-nos-coastal-lidar-pds.s3.amazonaws.com/dem/SLR_viewer_DEM_6230/NOAA_SLR_DEM_m6230_met_forHumans.html', 'https://noaa-nos-coastal-lidar-pds.s3.amazonaws.com/dem/SLR_viewer_DEM_6230/AL/index.html', 'https://noaa-nos-coastal-lidar-pds.s3.amazonaws.com/dem/SLR_viewer_DEM_6230/AL/AL_GCS_3m_NAVDm.tif', 'https://noaa-nos-coastal-lidar-pds.s3.amazonaws.com/dem/SLR_viewer_DEM_6230/CA/index.html', 'https://noaa-nos-coastal-lidar-pds.s3.amazonaws.com/dem/SLR_viewer_DEM_6230/CA/CA_Catalina_GCS_3m_NAVDm.tif', 'https://noaa-nos-coastal-lidar-pds.s3.amazonaws.com/dem/SLR_viewer_DEM_6230/CA/CA_ChannelIslands_GCS_5m_NAVDm.tif', 'https://noaa-nos-coastal-lidar-pds.s3.amazonaws.com/dem/SLR_viewer_DEM_6230/CA/CA_ChannelIslands_metadata.met', 'https://noaa-nos-coastal-lidar-pds.s3.amazonaws.com/dem/SLR_viewer_DEM_6230/CA/CA_ChannelIslands_metadata.xml', 'https://noaa-nos-coastal-lidar-pds.s3.amazonaws.com/dem/SLR_viewer_DEM_6230/CA/CA_EKA1_metadata.txt', 'https://noaa-nos-coastal-lidar-pds.s3.amazonaws.com/dem/SLR_viewer_DEM_6230/CA/CA_EKA1_metadata.xml', 'https://noaa-nos-coastal-lidar-pds.s3.amazonaws.com/dem/SLR_viewer_DEM_6230/CA/CA_EKA2_metadata.txt', 'https://noaa-nos-coastal-lidar-pds.s3.amazonaws.com/dem/SLR_viewer_DEM_6230/CA/CA_EKA2_metadata.xml', 'https://noaa-nos-coastal-lidar-pds.s3.amazonaws.com/dem/SLR_viewer_DEM_6230/CA/CA_EKA_dems/index.html', 'https://noaa-nos-coastal-lidar-pds.s3.amazonaws.com/dem/SLR_viewer_DEM_6230/CA/CA_EKA_dems/CA_EKA1_GCS_5m_NAVD88m.tif', 'https://noaa-nos-coastal-lidar-pds.s3.amazonaws.com/dem/SLR_viewer_DEM_6230/CA/CA_EKA_dems/CA_EKA2_GCS_5m_NAVD88m.tif', 'https://noaa-nos-coastal-lidar-pds.s3.amazonaws.com/dem/SLR_viewer_DEM_6230/CA/CA_LOX1_metadata.txt', 'https://noaa-nos-coastal-lidar-pds.s3.amazonaws.com/dem/SLR_viewer_DEM_6230/CA/CA_LOX1_metadata.xml', 'https://noaa-nos-coastal-lidar-pds.s3.amazonaws.com/dem/SLR_viewer_DEM_6230/CA/CA_LOX2_metadata.txt', 'https://noaa-nos-coastal-lidar-pds.s3.amazonaws.com/dem/SLR_viewer_DEM_6230/CA/CA_LOX2_metadata.xml', 'https://noaa-nos-coastal-lidar-pds.s3.amazonaws.com/dem/SLR_viewer_DEM_6230/CA/CA_LOX_dems/index.html', 'https://noaa-nos-coastal-lidar-pds.s3.amazonaws.com/dem/SLR_viewer_DEM_6230/CA/CA_LOX_dems/CA_LOX1_GCS_5m_NAVD88m.tif', 'https://noaa-nos-coastal-lidar-pds.s3.amazonaws.com/dem/SLR_viewer_DEM_6230/CA/CA_LOX_dems/CA_LOX2_GCS_5m_NAVD88m.tif', 'https://noaa-nos-coastal-lidar-pds.s3.amazonaws.com/dem/SLR_viewer_DEM_6230/CA/CA_MTR1_metadata.txt', 'https://noaa-nos-coastal-lidar-pds.s3.amazonaws.com/dem/SLR_viewer_DEM_6230/CA/CA_MTR1_metadata.xml', 'https://noaa-nos-coastal-lidar-pds.s3.amazonaws.com/dem/SLR_viewer_DEM_6230/CA/CA_MTR2_metadata.txt', 'https://noaa-nos-coastal-lidar-pds.s3.amazonaws.com/dem/SLR_viewer_DEM_6230/CA/CA_MTR2_metadata.xml', 'https://noaa-nos-coastal-lidar-pds.s3.amazonaws.com/dem/SLR_viewer_DEM_6230/CA/CA_MTR3_metadata.txt', 'https://noaa-nos-coastal-lidar-pds.s3.amazonaws.com/dem/SLR_viewer_DEM_6230/CA/CA_MTR3_metadata.xml', 'https://noaa-nos-coastal-lidar-pds.s3.amazonaws.com/dem/SLR_viewer_DEM_6230/CA/CA_MTR_STO_dems/index.html', 'https://noaa-nos-coastal-lidar-pds.s3.amazonaws.com/dem/SLR_viewer_DEM_6230/CA/CA_MTR_STO_dems/CA_MTR1_GCS_5m_NAVD88m.tif', 'https://noaa-nos-coastal-lidar-pds.s3.amazonaws.com/dem/SLR_viewer_DEM_6230/CA/CA_MTR_STO_dems/CA_MTR2_GCS_5m_NAVD88m.tif', 'https://noaa-nos-coastal-lidar-pds.s3.amazonaws.com/dem/SLR_viewer_DEM_6230/CA/CA_MTR_STO_dems/CA_MTR3_GCS_5m_NAVD88m.tif', 'https://noaa-nos-coastal-lidar-pds.s3.amazonaws.com/dem/SLR_viewer_DEM_6230/CA/CA_SGX_dems/index.html', 'https://noaa-nos-coastal-lidar-pds.s3.amazonaws.com/dem/SLR_viewer_DEM_6230/CA/CA_SGX_dems/CA_SGX_GCS_5m_NAVD88m.tif', 'https://noaa-nos-coastal-lidar-pds.s3.amazonaws.com/dem/SLR_viewer_DEM_6230/CA/CA_SGX_metadata.txt', 'https://noaa-nos-coastal-lidar-pds.s3.amazonaws.com/dem/SLR_viewer_DEM_6230/CA/CA_SGX_metadata.xml', 'https://noaa-nos-coastal-lidar-pds.s3.amazonaws.com/dem/SLR_viewer_DEM_6230/DC/index.html', 'https://noaa-nos-coastal-lidar-pds.s3.amazonaws.com/dem/SLR_viewer_DEM_6230/DC/DC_dem_metadata.xml', 'https://noaa-nos-coastal-lidar-pds.s3.amazonaws.com/dem/SLR_viewer_DEM_6230/DC/DC_GCS_3m_NAVDm.tif', 'https://noaa-nos-coastal-lidar-pds.s3.amazonaws.com/dem/SLR_viewer_DEM_6230/DE/index.html', 'https://noaa-nos-coastal-lidar-pds.s3.amazonaws.com/dem/SLR_viewer_DEM_6230/DE/DE_dem_metadata.xml', 'https://noaa-nos-coastal-lidar-pds.s3.amazonaws.com/dem/SLR_viewer_DEM_6230/DE/DE_GCS_3m_NAVDm.tif', 'https://noaa-nos-coastal-lidar-pds.s3.amazonaws.com/dem/SLR_viewer_DEM_6230/FL/index.html', 'https://noaa-nos-coastal-lidar-pds.s3.amazonaws.com/dem/SLR_viewer_DEM_6230/FL/Panhandle/index.html', 'https://noaa-nos-coastal-lidar-pds.s3.amazonaws.com/dem/SLR_viewer_DEM_6230/FL/Panhandle/FL_Pan_East_GCS_3m_NAVDm.tif', 'https://noaa-nos-coastal-lidar-pds.s3.amazonaws.com/dem/SLR_viewer_DEM_6230/FL/Panhandle/FL_Pan_West_GCS_3m_NAVDm.tif', 'https://noaa-nos-coastal-lidar-pds.s3.amazonaws.com/dem/SLR_viewer_DEM_6230/FL/Peninsula/index.html', 'https://noaa-nos-coastal-lidar-pds.s3.amazonaws.com/dem/SLR_viewer_DEM_6230/FL/Peninsula/FL_East_1_dem_metadata.xml', 'https://noaa-nos-coastal-lidar-pds.s3.amazonaws.com/dem/SLR_viewer_DEM_6230/FL/Peninsula/FL_East_1_GCS_3m_NAVDm.tif', 'https://noaa-nos-coastal-lidar-pds.s3.amazonaws.com/dem/SLR_viewer_DEM_6230/FL/Peninsula/FL_East_2_dem_metadata.xml', 'https://noaa-nos-coastal-lidar-pds.s3.amazonaws.com/dem/SLR_viewer_DEM_6230/FL/Peninsula/FL_East_2_GCS_3m_NAVDm.tif', 'https://noaa-nos-coastal-lidar-pds.s3.amazonaws.com/dem/SLR_viewer_DEM_6230/FL/Peninsula/FL_Keys_dem_metadata.xml', 'https://noaa-nos-coastal-lidar-pds.s3.amazonaws.com/dem/SLR_viewer_DEM_6230/FL/Peninsula/FL_Keys_GCS_3m_NAVDm.tif', 'https://noaa-nos-coastal-lidar-pds.s3.amazonaws.com/dem/SLR_viewer_DEM_6230/FL/Peninsula/FL_NE_GCS_3m_NAVDm.tif', 'https://noaa-nos-coastal-lidar-pds.s3.amazonaws.com/dem/SLR_viewer_DEM_6230/FL/Peninsula/FL_Northeast_dem_metadata.xml', 'https://noaa-nos-coastal-lidar-pds.s3.amazonaws.com/dem/SLR_viewer_DEM_6230/FL/Peninsula/FL_SE_dem_metadata.xml', 'https://noaa-nos-coastal-lidar-pds.s3.amazonaws.com/dem/SLR_viewer_DEM_6230/FL/Peninsula/FL_SE_GCS_3m_NAVDm_v3.tif', 'https://noaa-nos-coastal-lidar-pds.s3.amazonaws.com/dem/SLR_viewer_DEM_6230/FL/Peninsula/FL_SW_dem_metadata.xml', 'https://noaa-nos-coastal-lidar-pds.s3.amazonaws.com/dem/SLR_viewer_DEM_6230/FL/Peninsula/FL_SW_GCS_3m_NAVDm.tif', 'https://noaa-nos-coastal-lidar-pds.s3.amazonaws.com/dem/SLR_viewer_DEM_6230/FL/Peninsula/FL_West_1_dem_metadata.xml', 'https://noaa-nos-coastal-lidar-pds.s3.amazonaws.com/dem/SLR_viewer_DEM_6230/FL/Peninsula/FL_West_1_GCS_3m_NAVDm.tif', 'https://noaa-nos-coastal-lidar-pds.s3.amazonaws.com/dem/SLR_viewer_DEM_6230/FL/Peninsula/FL_West_2_dem_metadata.xml', 'https://noaa-nos-coastal-lidar-pds.s3.amazonaws.com/dem/SLR_viewer_DEM_6230/FL/Peninsula/FL_West_2_GCS_3m_NAVDm.tif', 'https://noaa-nos-coastal-lidar-pds.s3.amazonaws.com/dem/SLR_viewer_DEM_6230/FL/Peninsula/FL_West_3_dem_metadata.xml', 'https://noaa-nos-coastal-lidar-pds.s3.amazonaws.com/dem/SLR_viewer_DEM_6230/FL/Peninsula/FL_West_3_GCS_3m_NAVDm.tif', 'https://noaa-nos-coastal-lidar-pds.s3.amazonaws.com/dem/SLR_viewer_DEM_6230/GA/index.html', 'https://noaa-nos-coastal-lidar-pds.s3.amazonaws.com/dem/SLR_viewer_DEM_6230/GA/GA_north_GCS_3m_NAVD88.tif', 'https://noaa-nos-coastal-lidar-pds.s3.amazonaws.com/dem/SLR_viewer_DEM_6230/GA/GA_south_GCS_3m_NAVD88.tif', 'https://noaa-nos-coastal-lidar-pds.s3.amazonaws.com/dem/SLR_viewer_DEM_6230/LA/index.html', 'https://noaa-nos-coastal-lidar-pds.s3.amazonaws.com/dem/SLR_viewer_DEM_6230/LA/LA_CentralEast_GCS_3m_NAVDm.tif', 'https://noaa-nos-coastal-lidar-pds.s3.amazonaws.com/dem/SLR_viewer_DEM_6230/LA/LA_CentralEast_metadata.xml', 'https://noaa-nos-coastal-lidar-pds.s3.amazonaws.com/dem/SLR_viewer_DEM_6230/LA/LA_Central_GCS_3m_NAVDm.tif', 'https://noaa-nos-coastal-lidar-pds.s3.amazonaws.com/dem/SLR_viewer_DEM_6230/LA/LA_Central_metadata.xml', 'https://noaa-nos-coastal-lidar-pds.s3.amazonaws.com/dem/SLR_viewer_DEM_6230/LA/LA_CentralNorth_GCS_3m_NAVDm.tif', 'https://noaa-nos-coastal-lidar-pds.s3.amazonaws.com/dem/SLR_viewer_DEM_6230/LA/LA_CentralNorth_metadata.xml', 'https://noaa-nos-coastal-lidar-pds.s3.amazonaws.com/dem/SLR_viewer_DEM_6230/LA/LA_Delta_GCS_3m_NAVDm.tif', 'https://noaa-nos-coastal-lidar-pds.s3.amazonaws.com/dem/SLR_viewer_DEM_6230/LA/LA_Delta_metadata.xml', 'https://noaa-nos-coastal-lidar-pds.s3.amazonaws.com/dem/SLR_viewer_DEM_6230/LA/LA_LakePontchartrain_GCS_3m_NAVDm.tif', 'https://noaa-nos-coastal-lidar-pds.s3.amazonaws.com/dem/SLR_viewer_DEM_6230/LA/LA_LakePontchartrain_metadata.xml', 'https://noaa-nos-coastal-lidar-pds.s3.amazonaws.com/dem/SLR_viewer_DEM_6230/LA/LA_West_GCS_3m_NAVDm.tif', 'https://noaa-nos-coastal-lidar-pds.s3.amazonaws.com/dem/SLR_viewer_DEM_6230/LA/LA_West_metadata.xml', 'https://noaa-nos-coastal-lidar-pds.s3.amazonaws.com/dem/SLR_viewer_DEM_6230/MD/index.html', 'https://noaa-nos-coastal-lidar-pds.s3.amazonaws.com/dem/SLR_viewer_DEM_6230/MD/MD_East_dem_metadata.xml', 'https://noaa-nos-coastal-lidar-pds.s3.amazonaws.com/dem/SLR_viewer_DEM_6230/MD/MD_East_GCS_3m_NAVDm.tif', 'https://noaa-nos-coastal-lidar-pds.s3.amazonaws.com/dem/SLR_viewer_DEM_6230/MD/MD_LWX_metadata.met', 'https://noaa-nos-coastal-lidar-pds.s3.amazonaws.com/dem/SLR_viewer_DEM_6230/MD/MD_LWX_metadata.xml', 'https://noaa-nos-coastal-lidar-pds.s3.amazonaws.com/dem/SLR_viewer_DEM_6230/MD/MD_North_GCS_3m_NAVDm.tif', 'https://noaa-nos-coastal-lidar-pds.s3.amazonaws.com/dem/SLR_viewer_DEM_6230/MD/MD_North_metadata.xml', 'https://noaa-nos-coastal-lidar-pds.s3.amazonaws.com/dem/SLR_viewer_DEM_6230/MD/MD_PHI_AKQ_metadata.xml', 'https://noaa-nos-coastal-lidar-pds.s3.amazonaws.com/dem/SLR_viewer_DEM_6230/MD/MD_PrinceGeorges_metadata.met', 'https://noaa-nos-coastal-lidar-pds.s3.amazonaws.com/dem/SLR_viewer_DEM_6230/MD/MD_Southeast_dem_metadata.xml', 'https://noaa-nos-coastal-lidar-pds.s3.amazonaws.com/dem/SLR_viewer_DEM_6230/MD/MD_Southeast_GCS_3m_NAVDm.tif', 'https://noaa-nos-coastal-lidar-pds.s3.amazonaws.com/dem/SLR_viewer_DEM_6230/MD/MD_Southwest_GCS_3m_NAVDm.tif', 'https://noaa-nos-coastal-lidar-pds.s3.amazonaws.com/dem/SLR_viewer_DEM_6230/MD/MD_Southwest_metadata.xml', 'https://noaa-nos-coastal-lidar-pds.s3.amazonaws.com/dem/SLR_viewer_DEM_6230/MD/MD_West_GCS_3m_NAVDm.tif', 'https://noaa-nos-coastal-lidar-pds.s3.amazonaws.com/dem/SLR_viewer_DEM_6230/MD/MD_West_metadata.xml', 'https://noaa-nos-coastal-lidar-pds.s3.amazonaws.com/dem/SLR_viewer_DEM_6230/MS/index.html', 'https://noaa-nos-coastal-lidar-pds.s3.amazonaws.com/dem/SLR_viewer_DEM_6230/MS/MS_GCS_3m_NAVDm.tif', 'https://noaa-nos-coastal-lidar-pds.s3.amazonaws.com/dem/SLR_viewer_DEM_6230/MS/MS_metadata.xml', 'https://noaa-nos-coastal-lidar-pds.s3.amazonaws.com/dem/SLR_viewer_DEM_6230/NC/index.html', 'https://noaa-nos-coastal-lidar-pds.s3.amazonaws.com/dem/SLR_viewer_DEM_6230/NC/NC_metadata.met', 'https://noaa-nos-coastal-lidar-pds.s3.amazonaws.com/dem/SLR_viewer_DEM_6230/NC/NC_metadata.xml', 'https://noaa-nos-coastal-lidar-pds.s3.amazonaws.com/dem/SLR_viewer_DEM_6230/NC/NC_Middle1_dem_metadata.xml', 'https://noaa-nos-coastal-lidar-pds.s3.amazonaws.com/dem/SLR_viewer_DEM_6230/NC/NC_Middle1_GCS_3m_NAVDm.tif', 'https://noaa-nos-coastal-lidar-pds.s3.amazonaws.com/dem/SLR_viewer_DEM_6230/NC/NC_Middle2_dem_metadata.xml', 'https://noaa-nos-coastal-lidar-pds.s3.amazonaws.com/dem/SLR_viewer_DEM_6230/NC/NC_Middle2_GCS_3m_NAVDm.tif', 'https://noaa-nos-coastal-lidar-pds.s3.amazonaws.com/dem/SLR_viewer_DEM_6230/NC/NC_Northern_dem_metadata.xml', 'https://noaa-nos-coastal-lidar-pds.s3.amazonaws.com/dem/SLR_viewer_DEM_6230/NC/NC_Northern_GCS_3m_NAVDm.tif', 'https://noaa-nos-coastal-lidar-pds.s3.amazonaws.com/dem/SLR_viewer_DEM_6230/NC/NC_Southern1_dem_metadata.xml', 'https://noaa-nos-coastal-lidar-pds.s3.amazonaws.com/dem/SLR_viewer_DEM_6230/NC/NC_Southern1_GCS_3m_NAVDm.tif', 'https://noaa-nos-coastal-lidar-pds.s3.amazonaws.com/dem/SLR_viewer_DEM_6230/NC/NC_Southern2_GCS_3m_NAVDm.tif', 'https://noaa-nos-coastal-lidar-pds.s3.amazonaws.com/dem/SLR_viewer_DEM_6230/NewEngland/index.html', 'https://noaa-nos-coastal-lidar-pds.s3.amazonaws.com/dem/SLR_viewer_DEM_6230/NewEngland/CT_GCS_3m_NAVDm.tif', 'https://noaa-nos-coastal-lidar-pds.s3.amazonaws.com/dem/SLR_viewer_DEM_6230/NewEngland/CT_metadata.xml', 'https://noaa-nos-coastal-lidar-pds.s3.amazonaws.com/dem/SLR_viewer_DEM_6230/NewEngland/MA_GCS_3m_NAVDm.tif', 'https://noaa-nos-coastal-lidar-pds.s3.amazonaws.com/dem/SLR_viewer_DEM_6230/NewEngland/MA_metadata.xml', 'https://noaa-nos-coastal-lidar-pds.s3.amazonaws.com/dem/SLR_viewer_DEM_6230/NewEngland/ME_East_GCS_3m_NAVDm.tif', 'https://noaa-nos-coastal-lidar-pds.s3.amazonaws.com/dem/SLR_viewer_DEM_6230/NewEngland/ME_East_metadata.xml', 'https://noaa-nos-coastal-lidar-pds.s3.amazonaws.com/dem/SLR_viewer_DEM_6230/NewEngland/ME_West_GCS_3m_NAVDm.tif', 'https://noaa-nos-coastal-lidar-pds.s3.amazonaws.com/dem/SLR_viewer_DEM_6230/NewEngland/ME_West_metadata.xml', 'https://noaa-nos-coastal-lidar-pds.s3.amazonaws.com/dem/SLR_viewer_DEM_6230/NewEngland/NH_GCS_3m_NAVDm.tif', 'https://noaa-nos-coastal-lidar-pds.s3.amazonaws.com/dem/SLR_viewer_DEM_6230/NewEngland/NH_metadata.xml', 'https://noaa-nos-coastal-lidar-pds.s3.amazonaws.com/dem/SLR_viewer_DEM_6230/NewEngland/RI_GCS_3m_NAVDm.tif', 'https://noaa-nos-coastal-lidar-pds.s3.amazonaws.com/dem/SLR_viewer_DEM_6230/NewEngland/RI_metadata.xml', 'https://noaa-nos-coastal-lidar-pds.s3.amazonaws.com/dem/SLR_viewer_DEM_6230/NJ/index.html', 'https://noaa-nos-coastal-lidar-pds.s3.amazonaws.com/dem/SLR_viewer_DEM_6230/NJ/NJ_Middle_dem_metadata.xml', 'https://noaa-nos-coastal-lidar-pds.s3.amazonaws.com/dem/SLR_viewer_DEM_6230/NJ/NJ_Middle_GCS_3m_NAVDm_FY21Update.tif', 'https://noaa-nos-coastal-lidar-pds.s3.amazonaws.com/dem/SLR_viewer_DEM_6230/NJ/NJ_Northern_dem_metadata.xml', 'https://noaa-nos-coastal-lidar-pds.s3.amazonaws.com/dem/SLR_viewer_DEM_6230/NJ/NJ_Northern_GCS_3m_NAVDm.tif', 'https://noaa-nos-coastal-lidar-pds.s3.amazonaws.com/dem/SLR_viewer_DEM_6230/NJ/NJ_Southern_dem_metadata.xml', 'https://noaa-nos-coastal-lidar-pds.s3.amazonaws.com/dem/SLR_viewer_DEM_6230/NJ/NJ_Southern_GCS_3m_NAVDm_FY21Update.tif', 'https://noaa-nos-coastal-lidar-pds.s3.amazonaws.com/dem/SLR_viewer_DEM_6230/NY/index.html', 'https://noaa-nos-coastal-lidar-pds.s3.amazonaws.com/dem/SLR_viewer_DEM_6230/NY/NY_Hudson_dem_metadata.xml', 'https://noaa-nos-coastal-lidar-pds.s3.amazonaws.com/dem/SLR_viewer_DEM_6230/NY/NY_Hudson_GCS_3m_NAVDm.tif', 'https://noaa-nos-coastal-lidar-pds.s3.amazonaws.com/dem/SLR_viewer_DEM_6230/NY/NY_Metro_dem_metadata.xml', 'https://noaa-nos-coastal-lidar-pds.s3.amazonaws.com/dem/SLR_viewer_DEM_6230/NY/NY_Metro_GCS_3m_NAVDm.tif', 'https://noaa-nos-coastal-lidar-pds.s3.amazonaws.com/dem/SLR_viewer_DEM_6230/NY/NY_OKX_metadata.txt', 'https://noaa-nos-coastal-lidar-pds.s3.amazonaws.com/dem/SLR_viewer_DEM_6230/NY/NY_OKX_metadata.xml', 'https://noaa-nos-coastal-lidar-pds.s3.amazonaws.com/dem/SLR_viewer_DEM_6230/NY/NY_Suffolk_dem_metadata.xml', 'https://noaa-nos-coastal-lidar-pds.s3.amazonaws.com/dem/SLR_viewer_DEM_6230/NY/NY_Suffolk_GCS_3m_NAVDm.tif', 'https://noaa-nos-coastal-lidar-pds.s3.amazonaws.com/dem/SLR_viewer_DEM_6230/OR/index.html', 'https://noaa-nos-coastal-lidar-pds.s3.amazonaws.com/dem/SLR_viewer_DEM_6230/OR/OR_MFR_dems/index.html', 'https://noaa-nos-coastal-lidar-pds.s3.amazonaws.com/dem/SLR_viewer_DEM_6230/OR/OR_MFR_dems/OR_MFR_GCS_5m_NAVD88m.tif', 'https://noaa-nos-coastal-lidar-pds.s3.amazonaws.com/dem/SLR_viewer_DEM_6230/OR/OR_MFR_dems/OR_MFR_metadata.txt', 'https://noaa-nos-coastal-lidar-pds.s3.amazonaws.com/dem/SLR_viewer_DEM_6230/OR/OR_MFR_dems/OR_MFR_metadata.xml', 'https://noaa-nos-coastal-lidar-pds.s3.amazonaws.com/dem/SLR_viewer_DEM_6230/OR/OR_PQR1_GCS_5m_NAVD88m.tif', 'https://noaa-nos-coastal-lidar-pds.s3.amazonaws.com/dem/SLR_viewer_DEM_6230/OR/OR_PQR1_metadata.txt', 'https://noaa-nos-coastal-lidar-pds.s3.amazonaws.com/dem/SLR_viewer_DEM_6230/OR/OR_PQR1_metadata.xml', 'https://noaa-nos-coastal-lidar-pds.s3.amazonaws.com/dem/SLR_viewer_DEM_6230/OR/OR_PQR2_GCS_5m_NAVD88m.tif', 'https://noaa-nos-coastal-lidar-pds.s3.amazonaws.com/dem/SLR_viewer_DEM_6230/OR/OR_PQR2_metadata.txt', 'https://noaa-nos-coastal-lidar-pds.s3.amazonaws.com/dem/SLR_viewer_DEM_6230/OR/OR_PQR2_metadata.xml', 'https://noaa-nos-coastal-lidar-pds.s3.amazonaws.com/dem/SLR_viewer_DEM_6230/PA/index.html', 'https://noaa-nos-coastal-lidar-pds.s3.amazonaws.com/dem/SLR_viewer_DEM_6230/PA/PA_GCS_3m_NAVDm.tif', 'https://noaa-nos-coastal-lidar-pds.s3.amazonaws.com/dem/SLR_viewer_DEM_6230/PA/PA_metadata.xml', 'https://noaa-nos-coastal-lidar-pds.s3.amazonaws.com/dem/SLR_viewer_DEM_6230/SC/index.html', 'https://noaa-nos-coastal-lidar-pds.s3.amazonaws.com/dem/SLR_viewer_DEM_6230/SC/SC_Central_GCS_3m_NAVDm.tif', 'https://noaa-nos-coastal-lidar-pds.s3.amazonaws.com/dem/SLR_viewer_DEM_6230/SC/SC_Central_metadata.xml', 'https://noaa-nos-coastal-lidar-pds.s3.amazonaws.com/dem/SLR_viewer_DEM_6230/SC/SC_North_GCS_3m_NAVDm.tif', 'https://noaa-nos-coastal-lidar-pds.s3.amazonaws.com/dem/SLR_viewer_DEM_6230/SC/SC_North_metadata.xml', 'https://noaa-nos-coastal-lidar-pds.s3.amazonaws.com/dem/SLR_viewer_DEM_6230/SC/SC_South_GCS_3m_NAVDm.tif', 'https://noaa-nos-coastal-lidar-pds.s3.amazonaws.com/dem/SLR_viewer_DEM_6230/SC/SC_South_metadata.xml', 'https://noaa-nos-coastal-lidar-pds.s3.amazonaws.com/dem/SLR_viewer_DEM_6230/stac/index.html', 'https://noaa-nos-coastal-lidar-pds.s3.amazonaws.com/dem/SLR_viewer_DEM_6230/TX/index.html', 'https://noaa-nos-coastal-lidar-pds.s3.amazonaws.com/dem/SLR_viewer_DEM_6230/TX/TX_Central_GCS_3m_NAVDm.tif', 'https://noaa-nos-coastal-lidar-pds.s3.amazonaws.com/dem/SLR_viewer_DEM_6230/TX/TX_Central_metadata.xml', 'https://noaa-nos-coastal-lidar-pds.s3.amazonaws.com/dem/SLR_viewer_DEM_6230/TX/TX_North1_GCS_3m_NAVDm.tif', 'https://noaa-nos-coastal-lidar-pds.s3.amazonaws.com/dem/SLR_viewer_DEM_6230/TX/TX_North1_metadata.xml', 'https://noaa-nos-coastal-lidar-pds.s3.amazonaws.com/dem/SLR_viewer_DEM_6230/TX/TX_North2_GCS_3m_NAVDm.tif', 'https://noaa-nos-coastal-lidar-pds.s3.amazonaws.com/dem/SLR_viewer_DEM_6230/TX/TX_North2_metadata.xml', 'https://noaa-nos-coastal-lidar-pds.s3.amazonaws.com/dem/SLR_viewer_DEM_6230/TX/TX_South1_GCS_3m_NAVDm.tif', 'https://noaa-nos-coastal-lidar-pds.s3.amazonaws.com/dem/SLR_viewer_DEM_6230/TX/TX_South1_metadata.xml', 'https://noaa-nos-coastal-lidar-pds.s3.amazonaws.com/dem/SLR_viewer_DEM_6230/TX/TX_South2_GCS_3m_NAVDm.tif', 'https://noaa-nos-coastal-lidar-pds.s3.amazonaws.com/dem/SLR_viewer_DEM_6230/TX/TX_South2_metadata.xml', 'https://noaa-nos-coastal-lidar-pds.s3.amazonaws.com/dem/SLR_viewer_DEM_6230/VA/index.html', 'https://noaa-nos-coastal-lidar-pds.s3.amazonaws.com/dem/SLR_viewer_DEM_6230/VA/VA_EasternShore_dem_metadata.xml', 'https://noaa-nos-coastal-lidar-pds.s3.amazonaws.com/dem/SLR_viewer_DEM_6230/VA/VA_EasternShore_GCS_3m_NAVDm.tif', 'https://noaa-nos-coastal-lidar-pds.s3.amazonaws.com/dem/SLR_viewer_DEM_6230/VA/VA_Middle_dem_metadata.xml', 'https://noaa-nos-coastal-lidar-pds.s3.amazonaws.com/dem/SLR_viewer_DEM_6230/VA/VA_Middle_GCS_3m_NAVDm.tif', 'https://noaa-nos-coastal-lidar-pds.s3.amazonaws.com/dem/SLR_viewer_DEM_6230/VA/VA_Northern_dem_metadata.xml', 'https://noaa-nos-coastal-lidar-pds.s3.amazonaws.com/dem/SLR_viewer_DEM_6230/VA/VA_Northern_GCS_3m_NAVDm.tif', 'https://noaa-nos-coastal-lidar-pds.s3.amazonaws.com/dem/SLR_viewer_DEM_6230/VA/VA_Southern_dem_metadata.xml', 'https://noaa-nos-coastal-lidar-pds.s3.amazonaws.com/dem/SLR_viewer_DEM_6230/VA/VA_Southern_GCS_3m_NAVDm.tif', 'https://noaa-nos-coastal-lidar-pds.s3.amazonaws.com/dem/SLR_viewer_DEM_6230/WA/index.html', 'https://noaa-nos-coastal-lidar-pds.s3.amazonaws.com/dem/SLR_viewer_DEM_6230/WA/URLlist_WA.txt', 'https://noaa-nos-coastal-lidar-pds.s3.amazonaws.com/dem/SLR_viewer_DEM_6230/WA/WA_PQR_dems/index.html', 'https://noaa-nos-coastal-lidar-pds.s3.amazonaws.com/dem/SLR_viewer_DEM_6230/WA/WA_PQR_dems/URLlist_WA_PQR_dems.txt', 'https://noaa-nos-coastal-lidar-pds.s3.amazonaws.com/dem/SLR_viewer_DEM_6230/WA/WA_PQR_dems/WA_PQR_GCS_5m_NAVD88m.rde', 'https://noaa-nos-coastal-lidar-pds.s3.amazonaws.com/dem/SLR_viewer_DEM_6230/WA/WA_PQR_dems/WA_PQR_GCS_5m_NAVD88m.tif', 'https://noaa-nos-coastal-lidar-pds.s3.amazonaws.com/dem/SLR_viewer_DEM_6230/WA/WA_PQR_dems/WA_PQR_metadata.txt', 'https://noaa-nos-coastal-lidar-pds.s3.amazonaws.com/dem/SLR_viewer_DEM_6230/WA/WA_PQR_dems/WA_PQR_metadata.xml', 'https://noaa-nos-coastal-lidar-pds.s3.amazonaws.com/dem/SLR_viewer_DEM_6230/WA/WA_PugetNW_metadata.xml', 'https://noaa-nos-coastal-lidar-pds.s3.amazonaws.com/dem/SLR_viewer_DEM_6230/WA/WA_PugetSoundNW_GCS_3m_NAVDm.tfw', 'https://noaa-nos-coastal-lidar-pds.s3.amazonaws.com/dem/SLR_viewer_DEM_6230/WA/WA_PugetSoundNW_GCS_3m_NAVDm.tif', 'https://noaa-nos-coastal-lidar-pds.s3.amazonaws.com/dem/SLR_viewer_DEM_6230/WA/WA_PugetSoundSW_GCS_3m_NAVDm.tfw', 'https://noaa-nos-coastal-lidar-pds.s3.amazonaws.com/dem/SLR_viewer_DEM_6230/WA/WA_PugetSoundSW_GCS_3m_NAVDm.tif', 'https://noaa-nos-coastal-lidar-pds.s3.amazonaws.com/dem/SLR_viewer_DEM_6230/WA/WA_PugetSW_metadata.xml', 'https://noaa-nos-coastal-lidar-pds.s3.amazonaws.com/dem/SLR_viewer_DEM_6230/WA/WA_SEW1_GCS_5m_NAVD88m.tif', 'https://noaa-nos-coastal-lidar-pds.s3.amazonaws.com/dem/SLR_viewer_DEM_6230/WA/WA_SEW1_metadata.txt', 'https://noaa-nos-coastal-lidar-pds.s3.amazonaws.com/dem/SLR_viewer_DEM_6230/WA/WA_SEW1_metadata.xml', 'https://noaa-nos-coastal-lidar-pds.s3.amazonaws.com/dem/SLR_viewer_DEM_6230/WA/WA_SEW2_GCS_5m_NAVD88m.rde', 'https://noaa-nos-coastal-lidar-pds.s3.amazonaws.com/dem/SLR_viewer_DEM_6230/WA/WA_SEW2_GCS_5m_NAVDm.tfw', 'https://noaa-nos-coastal-lidar-pds.s3.amazonaws.com/dem/SLR_viewer_DEM_6230/WA/WA_SEW2_GCS_5m_NAVDm.tif', 'https://noaa-nos-coastal-lidar-pds.s3.amazonaws.com/dem/SLR_viewer_DEM_6230/WA/WA_SEW2_metadata.txt', 'https://noaa-nos-coastal-lidar-pds.s3.amazonaws.com/dem/SLR_viewer_DEM_6230/WA/WA_SEW2_metadata.xml', 'https://noaa-nos-coastal-lidar-pds.s3.amazonaws.com/dem/SLR_viewer_DEM_6230/WA/WA_SEW3_GCS_5m_NAVD88m.rde', 'https://noaa-nos-coastal-lidar-pds.s3.amazonaws.com/dem/SLR_viewer_DEM_6230/WA/WA_SEW3_metadata.txt', 'https://noaa-nos-coastal-lidar-pds.s3.amazonaws.com/dem/SLR_viewer_DEM_6230/WA/WA_SEW3_metadata.xml']\n"
     ]
    }
   ],
   "source": [
    "# Retry count for failed downloads\n",
    "retry_count = 3\n",
    "\n",
    "# Log file name with today's date as suffix\n",
    "log_file = f\"download_failures_{datetime.date.today()}.txt\"\n",
    "\n",
    "# URL of the file containing the list of URLs\n",
    "url_list_file = 'https://coast.noaa.gov/htdata/raster2/elevation/SLR_viewer_DEM_6230/urllist6230.txt'\n",
    "\n",
    "# Function to read the URLs from the file and store them as a list\n",
    "def read_urls_from_file(url_file):\n",
    "    with urllib.request.urlopen(url_file) as file:\n",
    "        urls = file.read().decode().splitlines()\n",
    "    return urls\n",
    "\n",
    "# Call the function to read the URLs from the file\n",
    "urls = read_urls_from_file(url_list_file)\n",
    "\n",
    "# Print the list of URLs\n",
    "print(urls)\n",
    "\n",
    "# for url in urls:\n",
    "#     file_name = url.split('/')[-1]\n",
    "#     save_path = os.path.join(downloads_folder, file_name)\n",
    "#     retry = 0\n",
    "#     while retry < retry_count:\n",
    "#         try:\n",
    "#             urllib.request.urlretrieve(url, save_path)\n",
    "#             break\n",
    "#         except Exception as e:\n",
    "#             # Log the download failure to the log file\n",
    "#             with open(log_file, 'a') as log:\n",
    "#                 log.write(f\"Failed to download {url}: {str(e)}\\n\")\n",
    "#             retry += 1\n",
    "#     else:\n",
    "#         # Log the download failure to the log file after retrying\n",
    "#         with open(log_file, 'a') as log:\n",
    "#             log.write(f\"Failed to download {url} after {retry_count} retries\\n\")"
   ]
  },
  {
   "cell_type": "code",
   "execution_count": 7,
   "metadata": {},
   "outputs": [
    {
     "name": "stderr",
     "output_type": "stream",
     "text": [
      "Downloading files:   5%|▍         | 10/215 [00:01<00:34,  5.96it/s]"
     ]
    }
   ],
   "source": [
    "for url in tqdm(urls, desc=\"Downloading files\"):\n",
    "    file_name = url.split('/')[-1]\n",
    "    save_path = os.path.join(downloads_folder, file_name)\n",
    "    retry = 0\n",
    "    while retry < retry_count:\n",
    "        try:\n",
    "            urllib.request.urlretrieve(url, save_path)\n",
    "            break\n",
    "        except Exception as e:\n",
    "            # Log the download failure to the log file\n",
    "            with open(log_file, 'a') as log:\n",
    "                log.write(f\"Failed to download {url}: {str(e)}\\n\")\n",
    "            retry += 1\n",
    "    else:\n",
    "        # Log the download failure to the log file after retrying\n",
    "        with open(log_file, 'a') as log:\n",
    "            log.write(f\"Failed to download {url} after {retry_count} retries\\n\")"
   ]
  }
 ],
 "metadata": {
  "kernelspec": {
   "display_name": "Python 3",
   "language": "python",
   "name": "python3"
  },
  "language_info": {
   "codemirror_mode": {
    "name": "ipython",
    "version": 3
   },
   "file_extension": ".py",
   "mimetype": "text/x-python",
   "name": "python",
   "nbconvert_exporter": "python",
   "pygments_lexer": "ipython3",
   "version": "3.11.8"
  }
 },
 "nbformat": 4,
 "nbformat_minor": 2
}
